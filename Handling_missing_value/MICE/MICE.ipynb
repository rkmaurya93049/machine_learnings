{
 "cells": [
  {
   "cell_type": "markdown",
   "metadata": {},
   "source": [
    "# Mice: Multiavriate imputation by chained Equation\n",
    "\n",
    "### Three type of missing data:\n",
    "    1.Missing completely at random.\n",
    "    2.Missing at random.\n",
    "    3.Missing NOt at random."
   ]
  },
  {
   "cell_type": "markdown",
   "metadata": {},
   "source": [
    "### Advantage \n",
    "    1.Accurate\n",
    "### Disadvantage:\n",
    "    1.Speed slow\n",
    "    2.take more memory"
   ]
  },
  {
   "cell_type": "markdown",
   "metadata": {},
   "source": [
    "# Steps for apply the MICE imputation:\n",
    "    1. Fill all the values with mean of the respective cols.\n",
    "    2."
   ]
  },
  {
   "cell_type": "code",
   "execution_count": null,
   "metadata": {},
   "outputs": [],
   "source": []
  }
 ],
 "metadata": {
  "language_info": {
   "name": "python"
  }
 },
 "nbformat": 4,
 "nbformat_minor": 2
}
