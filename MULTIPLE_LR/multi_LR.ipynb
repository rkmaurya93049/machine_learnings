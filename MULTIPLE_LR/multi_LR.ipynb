{
 "cells": [
  {
   "cell_type": "markdown",
   "metadata": {},
   "source": [
    "# Multiple Linear Regression:\n",
    "    -> when we have more than one input columns."
   ]
  },
  {
   "cell_type": "code",
   "execution_count": 23,
   "metadata": {},
   "outputs": [],
   "source": [
    "from sklearn.datasets import make_regression\n",
    "import pandas as pd\n",
    "import numpy as np\n",
    "\n",
    "import plotly.express as px\n",
    "import plotly.graph_objects as go\n",
    "\n",
    "from sklearn.metrics import mean_absolute_error,mean_squared_error,r2_score"
   ]
  },
  {
   "cell_type": "code",
   "execution_count": 24,
   "metadata": {},
   "outputs": [],
   "source": [
    "x,y=make_regression(n_samples=100,n_features=2,n_targets=1,noise=50)"
   ]
  },
  {
   "cell_type": "code",
   "execution_count": 25,
   "metadata": {},
   "outputs": [],
   "source": [
    "df=pd.DataFrame({'feature1':x[:,0],'feature2':x[:,1],'target':y})"
   ]
  },
  {
   "cell_type": "code",
   "execution_count": 26,
   "metadata": {},
   "outputs": [
    {
     "data": {
      "text/html": [
       "<div>\n",
       "<style scoped>\n",
       "    .dataframe tbody tr th:only-of-type {\n",
       "        vertical-align: middle;\n",
       "    }\n",
       "\n",
       "    .dataframe tbody tr th {\n",
       "        vertical-align: top;\n",
       "    }\n",
       "\n",
       "    .dataframe thead th {\n",
       "        text-align: right;\n",
       "    }\n",
       "</style>\n",
       "<table border=\"1\" class=\"dataframe\">\n",
       "  <thead>\n",
       "    <tr style=\"text-align: right;\">\n",
       "      <th></th>\n",
       "      <th>feature1</th>\n",
       "      <th>feature2</th>\n",
       "      <th>target</th>\n",
       "    </tr>\n",
       "  </thead>\n",
       "  <tbody>\n",
       "    <tr>\n",
       "      <th>0</th>\n",
       "      <td>-0.555373</td>\n",
       "      <td>0.533813</td>\n",
       "      <td>-35.908711</td>\n",
       "    </tr>\n",
       "    <tr>\n",
       "      <th>1</th>\n",
       "      <td>0.396726</td>\n",
       "      <td>0.250632</td>\n",
       "      <td>32.739667</td>\n",
       "    </tr>\n",
       "    <tr>\n",
       "      <th>2</th>\n",
       "      <td>0.039139</td>\n",
       "      <td>1.942326</td>\n",
       "      <td>158.854806</td>\n",
       "    </tr>\n",
       "    <tr>\n",
       "      <th>3</th>\n",
       "      <td>1.056247</td>\n",
       "      <td>-0.009625</td>\n",
       "      <td>39.532841</td>\n",
       "    </tr>\n",
       "    <tr>\n",
       "      <th>4</th>\n",
       "      <td>-0.350291</td>\n",
       "      <td>0.114105</td>\n",
       "      <td>-34.268814</td>\n",
       "    </tr>\n",
       "  </tbody>\n",
       "</table>\n",
       "</div>"
      ],
      "text/plain": [
       "   feature1  feature2      target\n",
       "0 -0.555373  0.533813  -35.908711\n",
       "1  0.396726  0.250632   32.739667\n",
       "2  0.039139  1.942326  158.854806\n",
       "3  1.056247 -0.009625   39.532841\n",
       "4 -0.350291  0.114105  -34.268814"
      ]
     },
     "execution_count": 26,
     "metadata": {},
     "output_type": "execute_result"
    }
   ],
   "source": [
    "df.head()"
   ]
  },
  {
   "cell_type": "code",
   "execution_count": 27,
   "metadata": {},
   "outputs": [
    {
     "data": {
      "application/vnd.plotly.v1+json": {
       "config": {
        "plotlyServerURL": "https://plot.ly"
       },
       "data": [
        {
         "hovertemplate": "feature1=%{x}<br>feature2=%{y}<br>target=%{z}<extra></extra>",
         "legendgroup": "",
         "marker": {
          "color": "#636efa",
          "symbol": "circle"
         },
         "mode": "markers",
         "name": "",
         "scene": "scene",
         "showlegend": false,
         "type": "scatter3d",
         "x": [
          -0.5553730617517909,
          0.39672595700427005,
          0.03913856524228264,
          1.0562473272629032,
          -0.350290914351892,
          0.814784721943918,
          -0.9486710073215453,
          -1.0073216345078395,
          -0.840671769555884,
          0.2650019441568199,
          -0.08174366259273956,
          -0.16900097133588893,
          -0.30494036210582165,
          -0.31243329309679296,
          -1.550939720201201,
          -0.6922202879553078,
          1.407487077274206,
          -0.32096701434011493,
          0.747228280954978,
          1.1481101155608837,
          -1.0814697928644934,
          -1.0785401294412724,
          -1.621989399071947,
          -0.26313393833322857,
          0.5543267673348926,
          -1.1989576714618368,
          -0.5059550780415927,
          0.8365311372510088,
          0.14889077799822525,
          -0.4644064465646199,
          0.07021748034592404,
          0.6437200498720138,
          -0.7144139183839812,
          0.5002705896593577,
          0.0772729513411329,
          0.28286754070891035,
          -0.5538036429635317,
          -0.09636968541397178,
          0.5293468026270778,
          0.5147117483456237,
          -0.09042192924633151,
          0.2741706307935593,
          0.5870676510211456,
          -0.49870632320247354,
          -1.3577512240796672,
          -0.19863134552947864,
          -0.9414267192473575,
          -1.6306840303069985,
          0.20665509162690782,
          -1.1875463388463185,
          0.9923393634908686,
          1.3435590022627324,
          -0.19103481346501128,
          1.3763280063170842,
          1.9384258422246354,
          -0.15994762738703192,
          -0.8775171353256459,
          0.5022803479863207,
          -0.47488418057462584,
          1.7207445558382943,
          1.0962033372930222,
          -0.15596885731430132,
          -2.0012027261748018,
          0.04916585042863934,
          -0.56641549058431,
          0.7032970642227063,
          -0.6310110943656608,
          -0.45339792012359065,
          0.08166461829625214,
          -0.21456932809761972,
          -0.6154991393055743,
          0.407673318839252,
          -1.0558043857349786,
          -1.2284562589340637,
          0.08811071413541938,
          -0.6226128045876747,
          -0.3348759146419785,
          0.8247980170549835,
          2.822316748282953,
          0.6106909323346135,
          -0.4880407802603875,
          -0.43991259230381685,
          1.2820257346480564,
          -0.6111568176178617,
          0.4763069133104188,
          -0.9602532830165122,
          -0.28835877121379083,
          0.18407586695835082,
          -1.2200658382351794,
          0.40323487333991365,
          0.11757973236003723,
          0.5824200880637802,
          1.469764119913171,
          -0.433998421143798,
          0.13826583091239253,
          1.8906897766074637,
          1.5544484704964776,
          -2.5560495927994062,
          -1.0521752345869033,
          -1.346945624519302
         ],
         "y": [
          0.5338126433811871,
          0.25063216346814876,
          1.9423260832584845,
          -0.009625435349616756,
          0.11410508167117377,
          -0.9635333865793977,
          -1.277378091651913,
          -1.3803371904016772,
          -2.5587040764544415,
          -1.96977942620206,
          -0.492095797826966,
          -0.6918826231251003,
          1.5436889640005975,
          -0.3249445449171518,
          2.0010707065566082,
          0.6011181718841612,
          -1.052991417527074,
          0.30381983581078725,
          0.746854930336416,
          -0.35786301716142754,
          0.08782057050972958,
          0.05706459326171804,
          -2.0687809052259745,
          1.3130522461509397,
          -1.7200338617495292,
          -0.3734918914776738,
          -1.6407006606485246,
          -0.5238584211113352,
          0.06500971636642686,
          0.1376467925462583,
          0.19114594861688225,
          1.182214546718149,
          -0.7334516829992274,
          0.675814038139134,
          0.17586270059694134,
          -1.6017190562520223,
          0.7183187390547722,
          -1.4490465339446437,
          -0.023705047328516343,
          -0.3281704550356118,
          -0.5581856903521164,
          0.0860981659421948,
          -1.8243120569115532,
          0.42524431478667185,
          -1.0426365380695082,
          -0.0812014557030542,
          -0.19801117534203966,
          -0.16342973196366684,
          0.22494383168371984,
          -0.03570762689714751,
          0.7681955092184485,
          -0.34962357548342493,
          0.6737899085727607,
          0.35051069066541496,
          -0.09119694648279575,
          0.48039845021542316,
          -0.9109618231179505,
          0.8062434044192768,
          -1.0925675454810144,
          -0.8402027715865582,
          -1.7022067850300386,
          -0.49268278776234403,
          0.5922225612918736,
          1.3033386513762568,
          1.3050685059271236,
          1.4250930515542422,
          0.3107288602362848,
          0.6887114408647522,
          -0.17492678991607782,
          1.0298616902410538,
          0.12156446836402604,
          0.5470022274971422,
          0.5464096895019511,
          0.5862917781746849,
          1.8391445419156547,
          -0.10115558756191295,
          2.247536341660058,
          -0.5792073073991938,
          0.33865576710168244,
          -1.4224878481901266,
          -2.570879986105352,
          1.3074981606530593,
          -0.821295669823618,
          0.10050014190204795,
          0.33101303923513764,
          2.154855425249826,
          0.2499353670611643,
          -0.05834587643896494,
          0.4577142211464619,
          0.35171901806641875,
          1.431268326451054,
          -1.1017762172145265,
          -0.5850320920619637,
          0.4711083148259703,
          1.244514342126145,
          0.0815534853828903,
          0.20185258481693477,
          0.05339545710768379,
          0.08964755085503584,
          1.346430963515503
         ],
         "z": [
          -35.90871086794611,
          32.739666524985026,
          158.8548056055039,
          39.53284085456134,
          -34.26881411737797,
          -29.42661523650355,
          -81.76720633156398,
          -80.58076384351392,
          -300.6390374982905,
          -171.49721870807196,
          37.51287285694086,
          66.55445249683561,
          141.96340510777503,
          53.19691441811349,
          -30.06405265625788,
          74.88744341860959,
          88.17962344934324,
          12.122277178480356,
          10.787515003413915,
          77.12444357996787,
          -67.8104051963753,
          -96.57876307988701,
          -279.3604509997589,
          36.784807287141334,
          3.6119253156146414,
          -60.84338437141749,
          -160.83777705629535,
          -23.687032939605917,
          44.49070008294612,
          -97.15268775551333,
          74.59332148613964,
          150.12919002417084,
          -83.47804278524693,
          60.58823023275673,
          65.59737657623404,
          21.534096956625575,
          -31.726280947535027,
          76.8863839442489,
          -31.360858531049942,
          -32.13695095488938,
          -155.48598774244567,
          27.02114641203336,
          -78.4111950074569,
          -18.835017025102555,
          -73.4916825045517,
          -49.80456699984812,
          -64.21944878180824,
          -105.60454044202494,
          15.317591583122011,
          -64.55188581581204,
          168.56083893547589,
          40.435110393940285,
          134.24046342046813,
          202.0525908905209,
          168.59953060101168,
          -45.40565280395462,
          -43.07025348241593,
          42.381106295547156,
          -176.31506216778104,
          65.59763616791491,
          -32.64093298233078,
          -31.868135924734897,
          -103.01801851958257,
          23.64527408799833,
          45.84718069960632,
          69.85788277739617,
          -33.97986411673539,
          -115.02159184080895,
          4.077660351267541,
          58.96171191791511,
          38.709556399229044,
          149.22077955103344,
          -16.533820027838072,
          31.014575342461917,
          206.30661154078484,
          -70.73432593916357,
          50.26801963259113,
          -10.351074735844454,
          178.56882368819197,
          -23.40881971260985,
          -74.61655325746592,
          141.64080098727416,
          -49.68476358005917,
          -93.7936096744088,
          41.53849980202283,
          94.01609082815713,
          -81.74409976236547,
          -49.78660212778613,
          -91.13185713229737,
          74.34942347082097,
          6.340729871700532,
          93.96722836553059,
          63.73358840301731,
          30.60694423113393,
          134.24685129022083,
          99.09011168478196,
          103.78966272007527,
          -115.28002738660828,
          -38.88418098657308,
          74.68634990197982
         ]
        }
       ],
       "layout": {
        "legend": {
         "tracegroupgap": 0
        },
        "margin": {
         "t": 60
        },
        "scene": {
         "domain": {
          "x": [
           0,
           1
          ],
          "y": [
           0,
           1
          ]
         },
         "xaxis": {
          "title": {
           "text": "feature1"
          }
         },
         "yaxis": {
          "title": {
           "text": "feature2"
          }
         },
         "zaxis": {
          "title": {
           "text": "target"
          }
         }
        },
        "template": {
         "data": {
          "bar": [
           {
            "error_x": {
             "color": "#2a3f5f"
            },
            "error_y": {
             "color": "#2a3f5f"
            },
            "marker": {
             "line": {
              "color": "#E5ECF6",
              "width": 0.5
             },
             "pattern": {
              "fillmode": "overlay",
              "size": 10,
              "solidity": 0.2
             }
            },
            "type": "bar"
           }
          ],
          "barpolar": [
           {
            "marker": {
             "line": {
              "color": "#E5ECF6",
              "width": 0.5
             },
             "pattern": {
              "fillmode": "overlay",
              "size": 10,
              "solidity": 0.2
             }
            },
            "type": "barpolar"
           }
          ],
          "carpet": [
           {
            "aaxis": {
             "endlinecolor": "#2a3f5f",
             "gridcolor": "white",
             "linecolor": "white",
             "minorgridcolor": "white",
             "startlinecolor": "#2a3f5f"
            },
            "baxis": {
             "endlinecolor": "#2a3f5f",
             "gridcolor": "white",
             "linecolor": "white",
             "minorgridcolor": "white",
             "startlinecolor": "#2a3f5f"
            },
            "type": "carpet"
           }
          ],
          "choropleth": [
           {
            "colorbar": {
             "outlinewidth": 0,
             "ticks": ""
            },
            "type": "choropleth"
           }
          ],
          "contour": [
           {
            "colorbar": {
             "outlinewidth": 0,
             "ticks": ""
            },
            "colorscale": [
             [
              0,
              "#0d0887"
             ],
             [
              0.1111111111111111,
              "#46039f"
             ],
             [
              0.2222222222222222,
              "#7201a8"
             ],
             [
              0.3333333333333333,
              "#9c179e"
             ],
             [
              0.4444444444444444,
              "#bd3786"
             ],
             [
              0.5555555555555556,
              "#d8576b"
             ],
             [
              0.6666666666666666,
              "#ed7953"
             ],
             [
              0.7777777777777778,
              "#fb9f3a"
             ],
             [
              0.8888888888888888,
              "#fdca26"
             ],
             [
              1,
              "#f0f921"
             ]
            ],
            "type": "contour"
           }
          ],
          "contourcarpet": [
           {
            "colorbar": {
             "outlinewidth": 0,
             "ticks": ""
            },
            "type": "contourcarpet"
           }
          ],
          "heatmap": [
           {
            "colorbar": {
             "outlinewidth": 0,
             "ticks": ""
            },
            "colorscale": [
             [
              0,
              "#0d0887"
             ],
             [
              0.1111111111111111,
              "#46039f"
             ],
             [
              0.2222222222222222,
              "#7201a8"
             ],
             [
              0.3333333333333333,
              "#9c179e"
             ],
             [
              0.4444444444444444,
              "#bd3786"
             ],
             [
              0.5555555555555556,
              "#d8576b"
             ],
             [
              0.6666666666666666,
              "#ed7953"
             ],
             [
              0.7777777777777778,
              "#fb9f3a"
             ],
             [
              0.8888888888888888,
              "#fdca26"
             ],
             [
              1,
              "#f0f921"
             ]
            ],
            "type": "heatmap"
           }
          ],
          "heatmapgl": [
           {
            "colorbar": {
             "outlinewidth": 0,
             "ticks": ""
            },
            "colorscale": [
             [
              0,
              "#0d0887"
             ],
             [
              0.1111111111111111,
              "#46039f"
             ],
             [
              0.2222222222222222,
              "#7201a8"
             ],
             [
              0.3333333333333333,
              "#9c179e"
             ],
             [
              0.4444444444444444,
              "#bd3786"
             ],
             [
              0.5555555555555556,
              "#d8576b"
             ],
             [
              0.6666666666666666,
              "#ed7953"
             ],
             [
              0.7777777777777778,
              "#fb9f3a"
             ],
             [
              0.8888888888888888,
              "#fdca26"
             ],
             [
              1,
              "#f0f921"
             ]
            ],
            "type": "heatmapgl"
           }
          ],
          "histogram": [
           {
            "marker": {
             "pattern": {
              "fillmode": "overlay",
              "size": 10,
              "solidity": 0.2
             }
            },
            "type": "histogram"
           }
          ],
          "histogram2d": [
           {
            "colorbar": {
             "outlinewidth": 0,
             "ticks": ""
            },
            "colorscale": [
             [
              0,
              "#0d0887"
             ],
             [
              0.1111111111111111,
              "#46039f"
             ],
             [
              0.2222222222222222,
              "#7201a8"
             ],
             [
              0.3333333333333333,
              "#9c179e"
             ],
             [
              0.4444444444444444,
              "#bd3786"
             ],
             [
              0.5555555555555556,
              "#d8576b"
             ],
             [
              0.6666666666666666,
              "#ed7953"
             ],
             [
              0.7777777777777778,
              "#fb9f3a"
             ],
             [
              0.8888888888888888,
              "#fdca26"
             ],
             [
              1,
              "#f0f921"
             ]
            ],
            "type": "histogram2d"
           }
          ],
          "histogram2dcontour": [
           {
            "colorbar": {
             "outlinewidth": 0,
             "ticks": ""
            },
            "colorscale": [
             [
              0,
              "#0d0887"
             ],
             [
              0.1111111111111111,
              "#46039f"
             ],
             [
              0.2222222222222222,
              "#7201a8"
             ],
             [
              0.3333333333333333,
              "#9c179e"
             ],
             [
              0.4444444444444444,
              "#bd3786"
             ],
             [
              0.5555555555555556,
              "#d8576b"
             ],
             [
              0.6666666666666666,
              "#ed7953"
             ],
             [
              0.7777777777777778,
              "#fb9f3a"
             ],
             [
              0.8888888888888888,
              "#fdca26"
             ],
             [
              1,
              "#f0f921"
             ]
            ],
            "type": "histogram2dcontour"
           }
          ],
          "mesh3d": [
           {
            "colorbar": {
             "outlinewidth": 0,
             "ticks": ""
            },
            "type": "mesh3d"
           }
          ],
          "parcoords": [
           {
            "line": {
             "colorbar": {
              "outlinewidth": 0,
              "ticks": ""
             }
            },
            "type": "parcoords"
           }
          ],
          "pie": [
           {
            "automargin": true,
            "type": "pie"
           }
          ],
          "scatter": [
           {
            "fillpattern": {
             "fillmode": "overlay",
             "size": 10,
             "solidity": 0.2
            },
            "type": "scatter"
           }
          ],
          "scatter3d": [
           {
            "line": {
             "colorbar": {
              "outlinewidth": 0,
              "ticks": ""
             }
            },
            "marker": {
             "colorbar": {
              "outlinewidth": 0,
              "ticks": ""
             }
            },
            "type": "scatter3d"
           }
          ],
          "scattercarpet": [
           {
            "marker": {
             "colorbar": {
              "outlinewidth": 0,
              "ticks": ""
             }
            },
            "type": "scattercarpet"
           }
          ],
          "scattergeo": [
           {
            "marker": {
             "colorbar": {
              "outlinewidth": 0,
              "ticks": ""
             }
            },
            "type": "scattergeo"
           }
          ],
          "scattergl": [
           {
            "marker": {
             "colorbar": {
              "outlinewidth": 0,
              "ticks": ""
             }
            },
            "type": "scattergl"
           }
          ],
          "scattermapbox": [
           {
            "marker": {
             "colorbar": {
              "outlinewidth": 0,
              "ticks": ""
             }
            },
            "type": "scattermapbox"
           }
          ],
          "scatterpolar": [
           {
            "marker": {
             "colorbar": {
              "outlinewidth": 0,
              "ticks": ""
             }
            },
            "type": "scatterpolar"
           }
          ],
          "scatterpolargl": [
           {
            "marker": {
             "colorbar": {
              "outlinewidth": 0,
              "ticks": ""
             }
            },
            "type": "scatterpolargl"
           }
          ],
          "scatterternary": [
           {
            "marker": {
             "colorbar": {
              "outlinewidth": 0,
              "ticks": ""
             }
            },
            "type": "scatterternary"
           }
          ],
          "surface": [
           {
            "colorbar": {
             "outlinewidth": 0,
             "ticks": ""
            },
            "colorscale": [
             [
              0,
              "#0d0887"
             ],
             [
              0.1111111111111111,
              "#46039f"
             ],
             [
              0.2222222222222222,
              "#7201a8"
             ],
             [
              0.3333333333333333,
              "#9c179e"
             ],
             [
              0.4444444444444444,
              "#bd3786"
             ],
             [
              0.5555555555555556,
              "#d8576b"
             ],
             [
              0.6666666666666666,
              "#ed7953"
             ],
             [
              0.7777777777777778,
              "#fb9f3a"
             ],
             [
              0.8888888888888888,
              "#fdca26"
             ],
             [
              1,
              "#f0f921"
             ]
            ],
            "type": "surface"
           }
          ],
          "table": [
           {
            "cells": {
             "fill": {
              "color": "#EBF0F8"
             },
             "line": {
              "color": "white"
             }
            },
            "header": {
             "fill": {
              "color": "#C8D4E3"
             },
             "line": {
              "color": "white"
             }
            },
            "type": "table"
           }
          ]
         },
         "layout": {
          "annotationdefaults": {
           "arrowcolor": "#2a3f5f",
           "arrowhead": 0,
           "arrowwidth": 1
          },
          "autotypenumbers": "strict",
          "coloraxis": {
           "colorbar": {
            "outlinewidth": 0,
            "ticks": ""
           }
          },
          "colorscale": {
           "diverging": [
            [
             0,
             "#8e0152"
            ],
            [
             0.1,
             "#c51b7d"
            ],
            [
             0.2,
             "#de77ae"
            ],
            [
             0.3,
             "#f1b6da"
            ],
            [
             0.4,
             "#fde0ef"
            ],
            [
             0.5,
             "#f7f7f7"
            ],
            [
             0.6,
             "#e6f5d0"
            ],
            [
             0.7,
             "#b8e186"
            ],
            [
             0.8,
             "#7fbc41"
            ],
            [
             0.9,
             "#4d9221"
            ],
            [
             1,
             "#276419"
            ]
           ],
           "sequential": [
            [
             0,
             "#0d0887"
            ],
            [
             0.1111111111111111,
             "#46039f"
            ],
            [
             0.2222222222222222,
             "#7201a8"
            ],
            [
             0.3333333333333333,
             "#9c179e"
            ],
            [
             0.4444444444444444,
             "#bd3786"
            ],
            [
             0.5555555555555556,
             "#d8576b"
            ],
            [
             0.6666666666666666,
             "#ed7953"
            ],
            [
             0.7777777777777778,
             "#fb9f3a"
            ],
            [
             0.8888888888888888,
             "#fdca26"
            ],
            [
             1,
             "#f0f921"
            ]
           ],
           "sequentialminus": [
            [
             0,
             "#0d0887"
            ],
            [
             0.1111111111111111,
             "#46039f"
            ],
            [
             0.2222222222222222,
             "#7201a8"
            ],
            [
             0.3333333333333333,
             "#9c179e"
            ],
            [
             0.4444444444444444,
             "#bd3786"
            ],
            [
             0.5555555555555556,
             "#d8576b"
            ],
            [
             0.6666666666666666,
             "#ed7953"
            ],
            [
             0.7777777777777778,
             "#fb9f3a"
            ],
            [
             0.8888888888888888,
             "#fdca26"
            ],
            [
             1,
             "#f0f921"
            ]
           ]
          },
          "colorway": [
           "#636efa",
           "#EF553B",
           "#00cc96",
           "#ab63fa",
           "#FFA15A",
           "#19d3f3",
           "#FF6692",
           "#B6E880",
           "#FF97FF",
           "#FECB52"
          ],
          "font": {
           "color": "#2a3f5f"
          },
          "geo": {
           "bgcolor": "white",
           "lakecolor": "white",
           "landcolor": "#E5ECF6",
           "showlakes": true,
           "showland": true,
           "subunitcolor": "white"
          },
          "hoverlabel": {
           "align": "left"
          },
          "hovermode": "closest",
          "mapbox": {
           "style": "light"
          },
          "paper_bgcolor": "white",
          "plot_bgcolor": "#E5ECF6",
          "polar": {
           "angularaxis": {
            "gridcolor": "white",
            "linecolor": "white",
            "ticks": ""
           },
           "bgcolor": "#E5ECF6",
           "radialaxis": {
            "gridcolor": "white",
            "linecolor": "white",
            "ticks": ""
           }
          },
          "scene": {
           "xaxis": {
            "backgroundcolor": "#E5ECF6",
            "gridcolor": "white",
            "gridwidth": 2,
            "linecolor": "white",
            "showbackground": true,
            "ticks": "",
            "zerolinecolor": "white"
           },
           "yaxis": {
            "backgroundcolor": "#E5ECF6",
            "gridcolor": "white",
            "gridwidth": 2,
            "linecolor": "white",
            "showbackground": true,
            "ticks": "",
            "zerolinecolor": "white"
           },
           "zaxis": {
            "backgroundcolor": "#E5ECF6",
            "gridcolor": "white",
            "gridwidth": 2,
            "linecolor": "white",
            "showbackground": true,
            "ticks": "",
            "zerolinecolor": "white"
           }
          },
          "shapedefaults": {
           "line": {
            "color": "#2a3f5f"
           }
          },
          "ternary": {
           "aaxis": {
            "gridcolor": "white",
            "linecolor": "white",
            "ticks": ""
           },
           "baxis": {
            "gridcolor": "white",
            "linecolor": "white",
            "ticks": ""
           },
           "bgcolor": "#E5ECF6",
           "caxis": {
            "gridcolor": "white",
            "linecolor": "white",
            "ticks": ""
           }
          },
          "title": {
           "x": 0.05
          },
          "xaxis": {
           "automargin": true,
           "gridcolor": "white",
           "linecolor": "white",
           "ticks": "",
           "title": {
            "standoff": 15
           },
           "zerolinecolor": "white",
           "zerolinewidth": 2
          },
          "yaxis": {
           "automargin": true,
           "gridcolor": "white",
           "linecolor": "white",
           "ticks": "",
           "title": {
            "standoff": 15
           },
           "zerolinecolor": "white",
           "zerolinewidth": 2
          }
         }
        }
       }
      }
     },
     "metadata": {},
     "output_type": "display_data"
    }
   ],
   "source": [
    "fig=px.scatter_3d(df,x='feature1',y='feature2',z='target')\n",
    "fig.show()"
   ]
  },
  {
   "cell_type": "code",
   "execution_count": 28,
   "metadata": {},
   "outputs": [],
   "source": [
    "from sklearn.model_selection import train_test_split\n",
    "x_train,x_test,y_train,y_test=train_test_split(x,y,test_size=0.2,random_state=3)"
   ]
  },
  {
   "cell_type": "code",
   "execution_count": 29,
   "metadata": {},
   "outputs": [],
   "source": [
    "from sklearn.linear_model import LinearRegression"
   ]
  },
  {
   "cell_type": "code",
   "execution_count": 30,
   "metadata": {},
   "outputs": [],
   "source": [
    "lr=LinearRegression()"
   ]
  },
  {
   "cell_type": "code",
   "execution_count": 31,
   "metadata": {},
   "outputs": [
    {
     "data": {
      "text/html": [
       "<style>#sk-container-id-2 {color: black;}#sk-container-id-2 pre{padding: 0;}#sk-container-id-2 div.sk-toggleable {background-color: white;}#sk-container-id-2 label.sk-toggleable__label {cursor: pointer;display: block;width: 100%;margin-bottom: 0;padding: 0.3em;box-sizing: border-box;text-align: center;}#sk-container-id-2 label.sk-toggleable__label-arrow:before {content: \"▸\";float: left;margin-right: 0.25em;color: #696969;}#sk-container-id-2 label.sk-toggleable__label-arrow:hover:before {color: black;}#sk-container-id-2 div.sk-estimator:hover label.sk-toggleable__label-arrow:before {color: black;}#sk-container-id-2 div.sk-toggleable__content {max-height: 0;max-width: 0;overflow: hidden;text-align: left;background-color: #f0f8ff;}#sk-container-id-2 div.sk-toggleable__content pre {margin: 0.2em;color: black;border-radius: 0.25em;background-color: #f0f8ff;}#sk-container-id-2 input.sk-toggleable__control:checked~div.sk-toggleable__content {max-height: 200px;max-width: 100%;overflow: auto;}#sk-container-id-2 input.sk-toggleable__control:checked~label.sk-toggleable__label-arrow:before {content: \"▾\";}#sk-container-id-2 div.sk-estimator input.sk-toggleable__control:checked~label.sk-toggleable__label {background-color: #d4ebff;}#sk-container-id-2 div.sk-label input.sk-toggleable__control:checked~label.sk-toggleable__label {background-color: #d4ebff;}#sk-container-id-2 input.sk-hidden--visually {border: 0;clip: rect(1px 1px 1px 1px);clip: rect(1px, 1px, 1px, 1px);height: 1px;margin: -1px;overflow: hidden;padding: 0;position: absolute;width: 1px;}#sk-container-id-2 div.sk-estimator {font-family: monospace;background-color: #f0f8ff;border: 1px dotted black;border-radius: 0.25em;box-sizing: border-box;margin-bottom: 0.5em;}#sk-container-id-2 div.sk-estimator:hover {background-color: #d4ebff;}#sk-container-id-2 div.sk-parallel-item::after {content: \"\";width: 100%;border-bottom: 1px solid gray;flex-grow: 1;}#sk-container-id-2 div.sk-label:hover label.sk-toggleable__label {background-color: #d4ebff;}#sk-container-id-2 div.sk-serial::before {content: \"\";position: absolute;border-left: 1px solid gray;box-sizing: border-box;top: 0;bottom: 0;left: 50%;z-index: 0;}#sk-container-id-2 div.sk-serial {display: flex;flex-direction: column;align-items: center;background-color: white;padding-right: 0.2em;padding-left: 0.2em;position: relative;}#sk-container-id-2 div.sk-item {position: relative;z-index: 1;}#sk-container-id-2 div.sk-parallel {display: flex;align-items: stretch;justify-content: center;background-color: white;position: relative;}#sk-container-id-2 div.sk-item::before, #sk-container-id-2 div.sk-parallel-item::before {content: \"\";position: absolute;border-left: 1px solid gray;box-sizing: border-box;top: 0;bottom: 0;left: 50%;z-index: -1;}#sk-container-id-2 div.sk-parallel-item {display: flex;flex-direction: column;z-index: 1;position: relative;background-color: white;}#sk-container-id-2 div.sk-parallel-item:first-child::after {align-self: flex-end;width: 50%;}#sk-container-id-2 div.sk-parallel-item:last-child::after {align-self: flex-start;width: 50%;}#sk-container-id-2 div.sk-parallel-item:only-child::after {width: 0;}#sk-container-id-2 div.sk-dashed-wrapped {border: 1px dashed gray;margin: 0 0.4em 0.5em 0.4em;box-sizing: border-box;padding-bottom: 0.4em;background-color: white;}#sk-container-id-2 div.sk-label label {font-family: monospace;font-weight: bold;display: inline-block;line-height: 1.2em;}#sk-container-id-2 div.sk-label-container {text-align: center;}#sk-container-id-2 div.sk-container {/* jupyter's `normalize.less` sets `[hidden] { display: none; }` but bootstrap.min.css set `[hidden] { display: none !important; }` so we also need the `!important` here to be able to override the default hidden behavior on the sphinx rendered scikit-learn.org. See: https://github.com/scikit-learn/scikit-learn/issues/21755 */display: inline-block !important;position: relative;}#sk-container-id-2 div.sk-text-repr-fallback {display: none;}</style><div id=\"sk-container-id-2\" class=\"sk-top-container\"><div class=\"sk-text-repr-fallback\"><pre>LinearRegression()</pre><b>In a Jupyter environment, please rerun this cell to show the HTML representation or trust the notebook. <br />On GitHub, the HTML representation is unable to render, please try loading this page with nbviewer.org.</b></div><div class=\"sk-container\" hidden><div class=\"sk-item\"><div class=\"sk-estimator sk-toggleable\"><input class=\"sk-toggleable__control sk-hidden--visually\" id=\"sk-estimator-id-2\" type=\"checkbox\" checked><label for=\"sk-estimator-id-2\" class=\"sk-toggleable__label sk-toggleable__label-arrow\">LinearRegression</label><div class=\"sk-toggleable__content\"><pre>LinearRegression()</pre></div></div></div></div></div>"
      ],
      "text/plain": [
       "LinearRegression()"
      ]
     },
     "execution_count": 31,
     "metadata": {},
     "output_type": "execute_result"
    }
   ],
   "source": [
    "lr.fit(x_train,y_train)"
   ]
  },
  {
   "cell_type": "code",
   "execution_count": 32,
   "metadata": {},
   "outputs": [],
   "source": [
    "y_pred=lr.predict(x_test)\n"
   ]
  },
  {
   "cell_type": "code",
   "execution_count": 33,
   "metadata": {},
   "outputs": [
    {
     "name": "stdout",
     "output_type": "stream",
     "text": [
      "MAE 46.64159933851357\n",
      "MSE 3310.4432468031323\n",
      "r2_score 0.5197573837747103\n"
     ]
    }
   ],
   "source": [
    "print(\"MAE\",mean_absolute_error(y_test,y_pred))\n",
    "print('MSE',mean_squared_error(y_test,y_pred))\n",
    "print('r2_score',r2_score(y_test,y_pred))"
   ]
  },
  {
   "cell_type": "code",
   "execution_count": 34,
   "metadata": {},
   "outputs": [],
   "source": [
    "x=np.linspace(-5,5,10)\n",
    "y=np.linspace(-5,5,10)\n",
    "xGrid,yGrid=np.meshgrid(y,x)\n",
    "\n",
    "final=np.vstack((xGrid.ravel().reshape(1,100),yGrid.ravel().reshape(1,100))).T\n",
    "z_final=lr.predict(final).reshape(10,10)\n",
    "z=z_final\n"
   ]
  },
  {
   "cell_type": "code",
   "execution_count": 37,
   "metadata": {},
   "outputs": [
    {
     "data": {
      "application/vnd.plotly.v1+json": {
       "config": {
        "plotlyServerURL": "https://plot.ly"
       },
       "data": [
        {
         "hovertemplate": "feature1=%{x}<br>feature2=%{y}<br>target=%{z}<extra></extra>",
         "legendgroup": "",
         "marker": {
          "color": "#636efa",
          "symbol": "circle"
         },
         "mode": "markers",
         "name": "",
         "scene": "scene",
         "showlegend": false,
         "type": "scatter3d",
         "x": [
          -0.5553730617517909,
          0.39672595700427005,
          0.03913856524228264,
          1.0562473272629032,
          -0.350290914351892,
          0.814784721943918,
          -0.9486710073215453,
          -1.0073216345078395,
          -0.840671769555884,
          0.2650019441568199,
          -0.08174366259273956,
          -0.16900097133588893,
          -0.30494036210582165,
          -0.31243329309679296,
          -1.550939720201201,
          -0.6922202879553078,
          1.407487077274206,
          -0.32096701434011493,
          0.747228280954978,
          1.1481101155608837,
          -1.0814697928644934,
          -1.0785401294412724,
          -1.621989399071947,
          -0.26313393833322857,
          0.5543267673348926,
          -1.1989576714618368,
          -0.5059550780415927,
          0.8365311372510088,
          0.14889077799822525,
          -0.4644064465646199,
          0.07021748034592404,
          0.6437200498720138,
          -0.7144139183839812,
          0.5002705896593577,
          0.0772729513411329,
          0.28286754070891035,
          -0.5538036429635317,
          -0.09636968541397178,
          0.5293468026270778,
          0.5147117483456237,
          -0.09042192924633151,
          0.2741706307935593,
          0.5870676510211456,
          -0.49870632320247354,
          -1.3577512240796672,
          -0.19863134552947864,
          -0.9414267192473575,
          -1.6306840303069985,
          0.20665509162690782,
          -1.1875463388463185,
          0.9923393634908686,
          1.3435590022627324,
          -0.19103481346501128,
          1.3763280063170842,
          1.9384258422246354,
          -0.15994762738703192,
          -0.8775171353256459,
          0.5022803479863207,
          -0.47488418057462584,
          1.7207445558382943,
          1.0962033372930222,
          -0.15596885731430132,
          -2.0012027261748018,
          0.04916585042863934,
          -0.56641549058431,
          0.7032970642227063,
          -0.6310110943656608,
          -0.45339792012359065,
          0.08166461829625214,
          -0.21456932809761972,
          -0.6154991393055743,
          0.407673318839252,
          -1.0558043857349786,
          -1.2284562589340637,
          0.08811071413541938,
          -0.6226128045876747,
          -0.3348759146419785,
          0.8247980170549835,
          2.822316748282953,
          0.6106909323346135,
          -0.4880407802603875,
          -0.43991259230381685,
          1.2820257346480564,
          -0.6111568176178617,
          0.4763069133104188,
          -0.9602532830165122,
          -0.28835877121379083,
          0.18407586695835082,
          -1.2200658382351794,
          0.40323487333991365,
          0.11757973236003723,
          0.5824200880637802,
          1.469764119913171,
          -0.433998421143798,
          0.13826583091239253,
          1.8906897766074637,
          1.5544484704964776,
          -2.5560495927994062,
          -1.0521752345869033,
          -1.346945624519302
         ],
         "y": [
          0.5338126433811871,
          0.25063216346814876,
          1.9423260832584845,
          -0.009625435349616756,
          0.11410508167117377,
          -0.9635333865793977,
          -1.277378091651913,
          -1.3803371904016772,
          -2.5587040764544415,
          -1.96977942620206,
          -0.492095797826966,
          -0.6918826231251003,
          1.5436889640005975,
          -0.3249445449171518,
          2.0010707065566082,
          0.6011181718841612,
          -1.052991417527074,
          0.30381983581078725,
          0.746854930336416,
          -0.35786301716142754,
          0.08782057050972958,
          0.05706459326171804,
          -2.0687809052259745,
          1.3130522461509397,
          -1.7200338617495292,
          -0.3734918914776738,
          -1.6407006606485246,
          -0.5238584211113352,
          0.06500971636642686,
          0.1376467925462583,
          0.19114594861688225,
          1.182214546718149,
          -0.7334516829992274,
          0.675814038139134,
          0.17586270059694134,
          -1.6017190562520223,
          0.7183187390547722,
          -1.4490465339446437,
          -0.023705047328516343,
          -0.3281704550356118,
          -0.5581856903521164,
          0.0860981659421948,
          -1.8243120569115532,
          0.42524431478667185,
          -1.0426365380695082,
          -0.0812014557030542,
          -0.19801117534203966,
          -0.16342973196366684,
          0.22494383168371984,
          -0.03570762689714751,
          0.7681955092184485,
          -0.34962357548342493,
          0.6737899085727607,
          0.35051069066541496,
          -0.09119694648279575,
          0.48039845021542316,
          -0.9109618231179505,
          0.8062434044192768,
          -1.0925675454810144,
          -0.8402027715865582,
          -1.7022067850300386,
          -0.49268278776234403,
          0.5922225612918736,
          1.3033386513762568,
          1.3050685059271236,
          1.4250930515542422,
          0.3107288602362848,
          0.6887114408647522,
          -0.17492678991607782,
          1.0298616902410538,
          0.12156446836402604,
          0.5470022274971422,
          0.5464096895019511,
          0.5862917781746849,
          1.8391445419156547,
          -0.10115558756191295,
          2.247536341660058,
          -0.5792073073991938,
          0.33865576710168244,
          -1.4224878481901266,
          -2.570879986105352,
          1.3074981606530593,
          -0.821295669823618,
          0.10050014190204795,
          0.33101303923513764,
          2.154855425249826,
          0.2499353670611643,
          -0.05834587643896494,
          0.4577142211464619,
          0.35171901806641875,
          1.431268326451054,
          -1.1017762172145265,
          -0.5850320920619637,
          0.4711083148259703,
          1.244514342126145,
          0.0815534853828903,
          0.20185258481693477,
          0.05339545710768379,
          0.08964755085503584,
          1.346430963515503
         ],
         "z": [
          -35.90871086794611,
          32.739666524985026,
          158.8548056055039,
          39.53284085456134,
          -34.26881411737797,
          -29.42661523650355,
          -81.76720633156398,
          -80.58076384351392,
          -300.6390374982905,
          -171.49721870807196,
          37.51287285694086,
          66.55445249683561,
          141.96340510777503,
          53.19691441811349,
          -30.06405265625788,
          74.88744341860959,
          88.17962344934324,
          12.122277178480356,
          10.787515003413915,
          77.12444357996787,
          -67.8104051963753,
          -96.57876307988701,
          -279.3604509997589,
          36.784807287141334,
          3.6119253156146414,
          -60.84338437141749,
          -160.83777705629535,
          -23.687032939605917,
          44.49070008294612,
          -97.15268775551333,
          74.59332148613964,
          150.12919002417084,
          -83.47804278524693,
          60.58823023275673,
          65.59737657623404,
          21.534096956625575,
          -31.726280947535027,
          76.8863839442489,
          -31.360858531049942,
          -32.13695095488938,
          -155.48598774244567,
          27.02114641203336,
          -78.4111950074569,
          -18.835017025102555,
          -73.4916825045517,
          -49.80456699984812,
          -64.21944878180824,
          -105.60454044202494,
          15.317591583122011,
          -64.55188581581204,
          168.56083893547589,
          40.435110393940285,
          134.24046342046813,
          202.0525908905209,
          168.59953060101168,
          -45.40565280395462,
          -43.07025348241593,
          42.381106295547156,
          -176.31506216778104,
          65.59763616791491,
          -32.64093298233078,
          -31.868135924734897,
          -103.01801851958257,
          23.64527408799833,
          45.84718069960632,
          69.85788277739617,
          -33.97986411673539,
          -115.02159184080895,
          4.077660351267541,
          58.96171191791511,
          38.709556399229044,
          149.22077955103344,
          -16.533820027838072,
          31.014575342461917,
          206.30661154078484,
          -70.73432593916357,
          50.26801963259113,
          -10.351074735844454,
          178.56882368819197,
          -23.40881971260985,
          -74.61655325746592,
          141.64080098727416,
          -49.68476358005917,
          -93.7936096744088,
          41.53849980202283,
          94.01609082815713,
          -81.74409976236547,
          -49.78660212778613,
          -91.13185713229737,
          74.34942347082097,
          6.340729871700532,
          93.96722836553059,
          63.73358840301731,
          30.60694423113393,
          134.24685129022083,
          99.09011168478196,
          103.78966272007527,
          -115.28002738660828,
          -38.88418098657308,
          74.68634990197982
         ]
        },
        {
         "type": "surface",
         "x": [
          -5,
          -3.888888888888889,
          -2.7777777777777777,
          -1.6666666666666665,
          -0.5555555555555554,
          0.5555555555555554,
          1.666666666666667,
          2.7777777777777786,
          3.8888888888888893,
          5
         ],
         "y": [
          -5,
          -3.888888888888889,
          -2.7777777777777777,
          -1.6666666666666665,
          -0.5555555555555554,
          0.5555555555555554,
          1.666666666666667,
          2.7777777777777786,
          3.8888888888888893,
          5
         ],
         "z": [
          [
           -568.7130754913721,
           -498.36818094109736,
           -428.02328639082253,
           -357.67839184054776,
           -287.33349729027293,
           -216.98860273999819,
           -146.64370818972338,
           -76.29881363944855,
           -5.953919089173777,
           64.390975461101
          ],
          [
           -510.58306301426995,
           -440.2381684639952,
           -369.8932739137204,
           -299.5483793634456,
           -229.2034848131708,
           -158.85859026289603,
           -88.51369571262121,
           -18.168801162346394,
           52.176093387928375,
           122.52098793820315
          ],
          [
           -452.4530505371678,
           -382.108155986893,
           -311.7632614366182,
           -241.41836688634345,
           -171.07347233606865,
           -100.72857778579387,
           -30.383683235519054,
           39.96121131475576,
           110.30610586503053,
           180.6510004153053
          ],
          [
           -394.3230380600657,
           -323.97814350979087,
           -253.63324895951604,
           -183.28835440924126,
           -112.94345985896649,
           -42.59856530869172,
           27.7463292415831,
           98.09122379185791,
           168.4361183421327,
           238.78101289240746
          ],
          [
           -336.1930255829635,
           -265.84813103268874,
           -195.5032364824139,
           -125.15834193213914,
           -54.813447381864336,
           15.53144716841043,
           85.87634171868525,
           156.22123626896007,
           226.56613081923484,
           296.9110253695096
          ],
          [
           -278.0630131058614,
           -207.71811855558659,
           -137.37322400531178,
           -67.028329455037,
           3.316565095237806,
           73.66145964551256,
           144.0063541957874,
           214.3512487460622,
           284.69614329633697,
           355.04103784661174
          ],
          [
           -219.9330006287592,
           -149.5881060784844,
           -79.2432115282096,
           -8.898316977934808,
           61.44657757233999,
           131.79147212261475,
           202.13636667288955,
           272.4812612231644,
           342.82615577343915,
           413.1710503237139
          ],
          [
           -161.80298815165702,
           -91.45809360138222,
           -21.11319905110741,
           49.23169549916737,
           119.57659004944216,
           189.92148459971693,
           260.26637914999174,
           330.61127370026657,
           400.95616825054134,
           471.3010628008161
          ],
          [
           -103.67297567455489,
           -33.32808112428009,
           37.01681342599471,
           107.3617079762695,
           177.7066025265443,
           248.05149707681906,
           318.39639162709386,
           388.7412861773687,
           459.08618072764347,
           529.4310752779184
          ],
          [
           -45.542963197452764,
           24.80193135282204,
           95.14682590309684,
           165.4917204533716,
           235.83661500364641,
           306.18150955392116,
           376.526404104196,
           446.8712986544708,
           517.2161932047457,
           587.5610877550205
          ]
         ]
        }
       ],
       "layout": {
        "legend": {
         "tracegroupgap": 0
        },
        "margin": {
         "t": 60
        },
        "scene": {
         "domain": {
          "x": [
           0,
           1
          ],
          "y": [
           0,
           1
          ]
         },
         "xaxis": {
          "title": {
           "text": "feature1"
          }
         },
         "yaxis": {
          "title": {
           "text": "feature2"
          }
         },
         "zaxis": {
          "title": {
           "text": "target"
          }
         }
        },
        "template": {
         "data": {
          "bar": [
           {
            "error_x": {
             "color": "#2a3f5f"
            },
            "error_y": {
             "color": "#2a3f5f"
            },
            "marker": {
             "line": {
              "color": "#E5ECF6",
              "width": 0.5
             },
             "pattern": {
              "fillmode": "overlay",
              "size": 10,
              "solidity": 0.2
             }
            },
            "type": "bar"
           }
          ],
          "barpolar": [
           {
            "marker": {
             "line": {
              "color": "#E5ECF6",
              "width": 0.5
             },
             "pattern": {
              "fillmode": "overlay",
              "size": 10,
              "solidity": 0.2
             }
            },
            "type": "barpolar"
           }
          ],
          "carpet": [
           {
            "aaxis": {
             "endlinecolor": "#2a3f5f",
             "gridcolor": "white",
             "linecolor": "white",
             "minorgridcolor": "white",
             "startlinecolor": "#2a3f5f"
            },
            "baxis": {
             "endlinecolor": "#2a3f5f",
             "gridcolor": "white",
             "linecolor": "white",
             "minorgridcolor": "white",
             "startlinecolor": "#2a3f5f"
            },
            "type": "carpet"
           }
          ],
          "choropleth": [
           {
            "colorbar": {
             "outlinewidth": 0,
             "ticks": ""
            },
            "type": "choropleth"
           }
          ],
          "contour": [
           {
            "colorbar": {
             "outlinewidth": 0,
             "ticks": ""
            },
            "colorscale": [
             [
              0,
              "#0d0887"
             ],
             [
              0.1111111111111111,
              "#46039f"
             ],
             [
              0.2222222222222222,
              "#7201a8"
             ],
             [
              0.3333333333333333,
              "#9c179e"
             ],
             [
              0.4444444444444444,
              "#bd3786"
             ],
             [
              0.5555555555555556,
              "#d8576b"
             ],
             [
              0.6666666666666666,
              "#ed7953"
             ],
             [
              0.7777777777777778,
              "#fb9f3a"
             ],
             [
              0.8888888888888888,
              "#fdca26"
             ],
             [
              1,
              "#f0f921"
             ]
            ],
            "type": "contour"
           }
          ],
          "contourcarpet": [
           {
            "colorbar": {
             "outlinewidth": 0,
             "ticks": ""
            },
            "type": "contourcarpet"
           }
          ],
          "heatmap": [
           {
            "colorbar": {
             "outlinewidth": 0,
             "ticks": ""
            },
            "colorscale": [
             [
              0,
              "#0d0887"
             ],
             [
              0.1111111111111111,
              "#46039f"
             ],
             [
              0.2222222222222222,
              "#7201a8"
             ],
             [
              0.3333333333333333,
              "#9c179e"
             ],
             [
              0.4444444444444444,
              "#bd3786"
             ],
             [
              0.5555555555555556,
              "#d8576b"
             ],
             [
              0.6666666666666666,
              "#ed7953"
             ],
             [
              0.7777777777777778,
              "#fb9f3a"
             ],
             [
              0.8888888888888888,
              "#fdca26"
             ],
             [
              1,
              "#f0f921"
             ]
            ],
            "type": "heatmap"
           }
          ],
          "heatmapgl": [
           {
            "colorbar": {
             "outlinewidth": 0,
             "ticks": ""
            },
            "colorscale": [
             [
              0,
              "#0d0887"
             ],
             [
              0.1111111111111111,
              "#46039f"
             ],
             [
              0.2222222222222222,
              "#7201a8"
             ],
             [
              0.3333333333333333,
              "#9c179e"
             ],
             [
              0.4444444444444444,
              "#bd3786"
             ],
             [
              0.5555555555555556,
              "#d8576b"
             ],
             [
              0.6666666666666666,
              "#ed7953"
             ],
             [
              0.7777777777777778,
              "#fb9f3a"
             ],
             [
              0.8888888888888888,
              "#fdca26"
             ],
             [
              1,
              "#f0f921"
             ]
            ],
            "type": "heatmapgl"
           }
          ],
          "histogram": [
           {
            "marker": {
             "pattern": {
              "fillmode": "overlay",
              "size": 10,
              "solidity": 0.2
             }
            },
            "type": "histogram"
           }
          ],
          "histogram2d": [
           {
            "colorbar": {
             "outlinewidth": 0,
             "ticks": ""
            },
            "colorscale": [
             [
              0,
              "#0d0887"
             ],
             [
              0.1111111111111111,
              "#46039f"
             ],
             [
              0.2222222222222222,
              "#7201a8"
             ],
             [
              0.3333333333333333,
              "#9c179e"
             ],
             [
              0.4444444444444444,
              "#bd3786"
             ],
             [
              0.5555555555555556,
              "#d8576b"
             ],
             [
              0.6666666666666666,
              "#ed7953"
             ],
             [
              0.7777777777777778,
              "#fb9f3a"
             ],
             [
              0.8888888888888888,
              "#fdca26"
             ],
             [
              1,
              "#f0f921"
             ]
            ],
            "type": "histogram2d"
           }
          ],
          "histogram2dcontour": [
           {
            "colorbar": {
             "outlinewidth": 0,
             "ticks": ""
            },
            "colorscale": [
             [
              0,
              "#0d0887"
             ],
             [
              0.1111111111111111,
              "#46039f"
             ],
             [
              0.2222222222222222,
              "#7201a8"
             ],
             [
              0.3333333333333333,
              "#9c179e"
             ],
             [
              0.4444444444444444,
              "#bd3786"
             ],
             [
              0.5555555555555556,
              "#d8576b"
             ],
             [
              0.6666666666666666,
              "#ed7953"
             ],
             [
              0.7777777777777778,
              "#fb9f3a"
             ],
             [
              0.8888888888888888,
              "#fdca26"
             ],
             [
              1,
              "#f0f921"
             ]
            ],
            "type": "histogram2dcontour"
           }
          ],
          "mesh3d": [
           {
            "colorbar": {
             "outlinewidth": 0,
             "ticks": ""
            },
            "type": "mesh3d"
           }
          ],
          "parcoords": [
           {
            "line": {
             "colorbar": {
              "outlinewidth": 0,
              "ticks": ""
             }
            },
            "type": "parcoords"
           }
          ],
          "pie": [
           {
            "automargin": true,
            "type": "pie"
           }
          ],
          "scatter": [
           {
            "fillpattern": {
             "fillmode": "overlay",
             "size": 10,
             "solidity": 0.2
            },
            "type": "scatter"
           }
          ],
          "scatter3d": [
           {
            "line": {
             "colorbar": {
              "outlinewidth": 0,
              "ticks": ""
             }
            },
            "marker": {
             "colorbar": {
              "outlinewidth": 0,
              "ticks": ""
             }
            },
            "type": "scatter3d"
           }
          ],
          "scattercarpet": [
           {
            "marker": {
             "colorbar": {
              "outlinewidth": 0,
              "ticks": ""
             }
            },
            "type": "scattercarpet"
           }
          ],
          "scattergeo": [
           {
            "marker": {
             "colorbar": {
              "outlinewidth": 0,
              "ticks": ""
             }
            },
            "type": "scattergeo"
           }
          ],
          "scattergl": [
           {
            "marker": {
             "colorbar": {
              "outlinewidth": 0,
              "ticks": ""
             }
            },
            "type": "scattergl"
           }
          ],
          "scattermapbox": [
           {
            "marker": {
             "colorbar": {
              "outlinewidth": 0,
              "ticks": ""
             }
            },
            "type": "scattermapbox"
           }
          ],
          "scatterpolar": [
           {
            "marker": {
             "colorbar": {
              "outlinewidth": 0,
              "ticks": ""
             }
            },
            "type": "scatterpolar"
           }
          ],
          "scatterpolargl": [
           {
            "marker": {
             "colorbar": {
              "outlinewidth": 0,
              "ticks": ""
             }
            },
            "type": "scatterpolargl"
           }
          ],
          "scatterternary": [
           {
            "marker": {
             "colorbar": {
              "outlinewidth": 0,
              "ticks": ""
             }
            },
            "type": "scatterternary"
           }
          ],
          "surface": [
           {
            "colorbar": {
             "outlinewidth": 0,
             "ticks": ""
            },
            "colorscale": [
             [
              0,
              "#0d0887"
             ],
             [
              0.1111111111111111,
              "#46039f"
             ],
             [
              0.2222222222222222,
              "#7201a8"
             ],
             [
              0.3333333333333333,
              "#9c179e"
             ],
             [
              0.4444444444444444,
              "#bd3786"
             ],
             [
              0.5555555555555556,
              "#d8576b"
             ],
             [
              0.6666666666666666,
              "#ed7953"
             ],
             [
              0.7777777777777778,
              "#fb9f3a"
             ],
             [
              0.8888888888888888,
              "#fdca26"
             ],
             [
              1,
              "#f0f921"
             ]
            ],
            "type": "surface"
           }
          ],
          "table": [
           {
            "cells": {
             "fill": {
              "color": "#EBF0F8"
             },
             "line": {
              "color": "white"
             }
            },
            "header": {
             "fill": {
              "color": "#C8D4E3"
             },
             "line": {
              "color": "white"
             }
            },
            "type": "table"
           }
          ]
         },
         "layout": {
          "annotationdefaults": {
           "arrowcolor": "#2a3f5f",
           "arrowhead": 0,
           "arrowwidth": 1
          },
          "autotypenumbers": "strict",
          "coloraxis": {
           "colorbar": {
            "outlinewidth": 0,
            "ticks": ""
           }
          },
          "colorscale": {
           "diverging": [
            [
             0,
             "#8e0152"
            ],
            [
             0.1,
             "#c51b7d"
            ],
            [
             0.2,
             "#de77ae"
            ],
            [
             0.3,
             "#f1b6da"
            ],
            [
             0.4,
             "#fde0ef"
            ],
            [
             0.5,
             "#f7f7f7"
            ],
            [
             0.6,
             "#e6f5d0"
            ],
            [
             0.7,
             "#b8e186"
            ],
            [
             0.8,
             "#7fbc41"
            ],
            [
             0.9,
             "#4d9221"
            ],
            [
             1,
             "#276419"
            ]
           ],
           "sequential": [
            [
             0,
             "#0d0887"
            ],
            [
             0.1111111111111111,
             "#46039f"
            ],
            [
             0.2222222222222222,
             "#7201a8"
            ],
            [
             0.3333333333333333,
             "#9c179e"
            ],
            [
             0.4444444444444444,
             "#bd3786"
            ],
            [
             0.5555555555555556,
             "#d8576b"
            ],
            [
             0.6666666666666666,
             "#ed7953"
            ],
            [
             0.7777777777777778,
             "#fb9f3a"
            ],
            [
             0.8888888888888888,
             "#fdca26"
            ],
            [
             1,
             "#f0f921"
            ]
           ],
           "sequentialminus": [
            [
             0,
             "#0d0887"
            ],
            [
             0.1111111111111111,
             "#46039f"
            ],
            [
             0.2222222222222222,
             "#7201a8"
            ],
            [
             0.3333333333333333,
             "#9c179e"
            ],
            [
             0.4444444444444444,
             "#bd3786"
            ],
            [
             0.5555555555555556,
             "#d8576b"
            ],
            [
             0.6666666666666666,
             "#ed7953"
            ],
            [
             0.7777777777777778,
             "#fb9f3a"
            ],
            [
             0.8888888888888888,
             "#fdca26"
            ],
            [
             1,
             "#f0f921"
            ]
           ]
          },
          "colorway": [
           "#636efa",
           "#EF553B",
           "#00cc96",
           "#ab63fa",
           "#FFA15A",
           "#19d3f3",
           "#FF6692",
           "#B6E880",
           "#FF97FF",
           "#FECB52"
          ],
          "font": {
           "color": "#2a3f5f"
          },
          "geo": {
           "bgcolor": "white",
           "lakecolor": "white",
           "landcolor": "#E5ECF6",
           "showlakes": true,
           "showland": true,
           "subunitcolor": "white"
          },
          "hoverlabel": {
           "align": "left"
          },
          "hovermode": "closest",
          "mapbox": {
           "style": "light"
          },
          "paper_bgcolor": "white",
          "plot_bgcolor": "#E5ECF6",
          "polar": {
           "angularaxis": {
            "gridcolor": "white",
            "linecolor": "white",
            "ticks": ""
           },
           "bgcolor": "#E5ECF6",
           "radialaxis": {
            "gridcolor": "white",
            "linecolor": "white",
            "ticks": ""
           }
          },
          "scene": {
           "xaxis": {
            "backgroundcolor": "#E5ECF6",
            "gridcolor": "white",
            "gridwidth": 2,
            "linecolor": "white",
            "showbackground": true,
            "ticks": "",
            "zerolinecolor": "white"
           },
           "yaxis": {
            "backgroundcolor": "#E5ECF6",
            "gridcolor": "white",
            "gridwidth": 2,
            "linecolor": "white",
            "showbackground": true,
            "ticks": "",
            "zerolinecolor": "white"
           },
           "zaxis": {
            "backgroundcolor": "#E5ECF6",
            "gridcolor": "white",
            "gridwidth": 2,
            "linecolor": "white",
            "showbackground": true,
            "ticks": "",
            "zerolinecolor": "white"
           }
          },
          "shapedefaults": {
           "line": {
            "color": "#2a3f5f"
           }
          },
          "ternary": {
           "aaxis": {
            "gridcolor": "white",
            "linecolor": "white",
            "ticks": ""
           },
           "baxis": {
            "gridcolor": "white",
            "linecolor": "white",
            "ticks": ""
           },
           "bgcolor": "#E5ECF6",
           "caxis": {
            "gridcolor": "white",
            "linecolor": "white",
            "ticks": ""
           }
          },
          "title": {
           "x": 0.05
          },
          "xaxis": {
           "automargin": true,
           "gridcolor": "white",
           "linecolor": "white",
           "ticks": "",
           "title": {
            "standoff": 15
           },
           "zerolinecolor": "white",
           "zerolinewidth": 2
          },
          "yaxis": {
           "automargin": true,
           "gridcolor": "white",
           "linecolor": "white",
           "ticks": "",
           "title": {
            "standoff": 15
           },
           "zerolinecolor": "white",
           "zerolinewidth": 2
          }
         }
        }
       }
      }
     },
     "metadata": {},
     "output_type": "display_data"
    }
   ],
   "source": [
    "fig=px.scatter_3d(df,x='feature1',y='feature2',z='target')\n",
    "\n",
    "fig.add_trace(go.Surface(x=x,y=y,z=z))\n",
    "fig.show()"
   ]
  },
  {
   "cell_type": "code",
   "execution_count": 38,
   "metadata": {},
   "outputs": [
    {
     "data": {
      "text/plain": [
       "array([63.3104051 , 52.31701123])"
      ]
     },
     "execution_count": 38,
     "metadata": {},
     "output_type": "execute_result"
    }
   ],
   "source": [
    "lr.coef_"
   ]
  },
  {
   "cell_type": "code",
   "execution_count": 39,
   "metadata": {},
   "outputs": [
    {
     "data": {
      "text/plain": [
       "9.424006131824118"
      ]
     },
     "execution_count": 39,
     "metadata": {},
     "output_type": "execute_result"
    }
   ],
   "source": [
    "lr.intercept_"
   ]
  },
  {
   "cell_type": "code",
   "execution_count": null,
   "metadata": {},
   "outputs": [],
   "source": [
    " "
   ]
  }
 ],
 "metadata": {
  "kernelspec": {
   "display_name": "Python 3",
   "language": "python",
   "name": "python3"
  },
  "language_info": {
   "codemirror_mode": {
    "name": "ipython",
    "version": 3
   },
   "file_extension": ".py",
   "mimetype": "text/x-python",
   "name": "python",
   "nbconvert_exporter": "python",
   "pygments_lexer": "ipython3",
   "version": "3.11.1"
  }
 },
 "nbformat": 4,
 "nbformat_minor": 2
}
